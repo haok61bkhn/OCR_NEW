{
 "cells": [
  {
   "cell_type": "code",
   "execution_count": 23,
   "id": "61ba1e6e",
   "metadata": {},
   "outputs": [],
   "source": [
    "#define document\n",
    "#DKKD\n",
    "Contents={}\n",
    "Contents.update({\"_Header\":[\"Giấy ủy quyền này\"]})\n",
    "Contents.update({\"BÊN ỦY QUYỀN\":[\"Ông\",\"Sinh ngày\",\"Dân tộc\",\"Quốc tịch\",\"Chứng minh thư nhân dân số\",\"Nơi đăng ký hổ khẩu thường trú\",\"Chức vụ\"]})\n",
    "Contents.update({\"BÊN ĐƯỢC ỦY QUYỀN\":[\"Ông\",\"Sinh ngày\",\"Dân tộc\",\"Quốc tịch\",\"Chứng minh thư nhân dân số\",\"Nơi đăng ký hổ khẩu thường trú\",\"Chức vụ\",\"1. NỘI DUNG VÀ PHẠM VI ỦY QUYỀN\",\"2. TRÁCH NHIỆM CÁC BÊN\",\"3. THỜI HẠN ỦY QUYỀN\"]})\n",
    "Contents.update({\"_End\":[\"BÊN ĐƯỢC ỦY QUYỀN\"]})"
   ]
  },
  {
   "cell_type": "code",
   "execution_count": 24,
   "id": "575ac406",
   "metadata": {},
   "outputs": [
    {
     "data": {
      "text/plain": [
       "{'_Header': ['Giấy ủy quyền này', '_end'],\n",
       " 'BÊN ỦY QUYỀN': ['Ông',\n",
       "  'Sinh ngày',\n",
       "  'Dân tộc',\n",
       "  'Quốc tịch',\n",
       "  'Chứng minh thư nhân dân số',\n",
       "  'Nơi đăng ký hổ khẩu thường trú',\n",
       "  'Chức vụ',\n",
       "  '_end'],\n",
       " 'BÊN ĐƯỢC ỦY QUYỀN': ['Ông',\n",
       "  'Sinh ngày',\n",
       "  'Dân tộc',\n",
       "  'Quốc tịch',\n",
       "  'Chứng minh thư nhân dân số',\n",
       "  'Nơi đăng ký hổ khẩu thường trú',\n",
       "  'Chức vụ',\n",
       "  '1. NỘI DUNG VÀ PHẠM VI ỦY QUYỀN',\n",
       "  '2. TRÁCH NHIỆM CÁC BÊN',\n",
       "  '3. THỜI HẠN ỦY QUYỀN',\n",
       "  '_end'],\n",
       " '_End': ['BÊN ĐƯỢC ỦY QUYỀN', '_end']}"
      ]
     },
     "execution_count": 24,
     "metadata": {},
     "output_type": "execute_result"
    }
   ],
   "source": [
    "Keywords0=list(Contents.keys())\n",
    "for x in Keywords0:\n",
    "    Contents[x].append(\"_end\")\n",
    "Contents"
   ]
  },
  {
   "cell_type": "code",
   "execution_count": 25,
   "id": "ab536f77",
   "metadata": {},
   "outputs": [],
   "source": [
    "# clean STR\n",
    "import re\n",
    "import numpy as np\n",
    "def clean_str(s):\n",
    "    s=s.strip()\n",
    "    s=re.sub('[*&/`~@#$%\\^&*]+', '', s)\n",
    "    return s.lower()\n",
    "\n",
    "def compare_str(s1,s2):\n",
    "    n1=len(s1)\n",
    "    n2=len(s2)\n",
    "    f=np.zeros((n1+1,n2+1))\n",
    "    for i in range(n1+1):\n",
    "        f[i][0]=1\n",
    "    for j in range(n2+1):\n",
    "        f[0][j]=1    \n",
    "    f[0][0]=0\n",
    "    if(s1[0]!=s2[0]):\n",
    "        f[1][1]=1\n",
    "    for i in range(0,n1):\n",
    "        for j in range(0,n2):\n",
    "            if(s1[i]==s2[j]):\n",
    "                f[i+1][j+1]=f[i][j]\n",
    "            else:\n",
    "                f[i+1][j+1]=min(f[i][j],f[i+1][j],f[i][j+1])+1\n",
    "    \n",
    "    return f[n1][n2]\n",
    "\n",
    "def check_keyword(keyword,text,percent=0.3):\n",
    "    keyword=clean_str(keyword)\n",
    "    text=clean_str(text)\n",
    "    n_keyword=len(keyword)\n",
    "    n_text=len(text)\n",
    "    similar=compare_str(keyword,text[:min(len(text),n_keyword)])\n",
    "    return similar<=int(percent*min(n_keyword,n_text)),similar\n",
    "    \n",
    "\n",
    "def check_line(ct1,ct2,thresh_dis=20): #center \n",
    "    dis=abs(ct1[1]-ct2[1])\n",
    "    return dis<thresh_dis"
   ]
  },
  {
   "cell_type": "code",
   "execution_count": 26,
   "id": "da4c3ffe",
   "metadata": {},
   "outputs": [
    {
     "name": "stdout",
     "output_type": "stream",
     "text": [
      "(1149, 875, 3)\n"
     ]
    }
   ],
   "source": [
    "# list_text after remove noise:\n",
    "import pickle\n",
    "import cv2\n",
    "\n",
    "img = cv2.imread(\"data/image.jpg\")\n",
    "print(img.shape)\n",
    "(dt_boxes,list_texts)=pickle.load(open(\"res.pickle\",\"rb+\"))\n",
    "n=len(dt_boxes)"
   ]
  },
  {
   "cell_type": "code",
   "execution_count": 48,
   "id": "1b5391a8",
   "metadata": {},
   "outputs": [],
   "source": [
    "#get center and draw\n",
    "heights=[]\n",
    "def get_center(img,dt_boxes,draw=True):\n",
    "    image=img.copy()\n",
    "    color = (0, 255, 0)\n",
    "    #y,x\n",
    "    list_centers=[]\n",
    "    for boxes in dt_boxes:\n",
    "        \n",
    "        heights.append(boxes[3][1]-boxes[0][1])\n",
    "        heights.append(boxes[2][1]-boxes[1][1])\n",
    "        x_center=int(sum(boxes[:,0])/4)\n",
    "        y_center=int(sum(boxes[:,1])/4)\n",
    "        list_centers.append((x_center,y_center))\n",
    "        if(draw):\n",
    "            # chieu kim dong ho\n",
    "            image = cv2.line(image, (int(boxes[0][0]),int(boxes[0][1])), (int(boxes[1][0]),int(boxes[1][1])), color, 1) \n",
    "            image = cv2.line(image, (int(boxes[1][0]),int(boxes[1][1])), (int(boxes[2][0]),int(boxes[2][1])), color, 1) \n",
    "            image = cv2.line(image, (int(boxes[2][0]),int(boxes[2][1])), (int(boxes[3][0]),int(boxes[3][1])), color, 1)\n",
    "            image = cv2.line(image, (int(boxes[3][0]),int(boxes[3][1])), (int(boxes[0][0]),int(boxes[0][1])), color, 1)\n",
    "            image = cv2.circle(image,(y_center,x_center),1,color,1)\n",
    "    if(draw):\n",
    "        cv2.imwrite(\"output/image_with_boxes.jpg\",image)\n",
    "    return list_centers\n",
    "list_centers=get_center(img,dt_boxes)"
   ]
  },
  {
   "cell_type": "code",
   "execution_count": 52,
   "id": "6972aa86",
   "metadata": {},
   "outputs": [],
   "source": [
    "height_mean=sum(heights)/len(heights)\n",
    "height_mean/=2"
   ]
  },
  {
   "cell_type": "code",
   "execution_count": 55,
   "id": "e1e46641",
   "metadata": {},
   "outputs": [],
   "source": [
    "height_mean=int(height_mean)"
   ]
  },
  {
   "cell_type": "code",
   "execution_count": 7,
   "id": "4eedb874",
   "metadata": {},
   "outputs": [
    {
     "data": {
      "text/plain": [
       "['CỘNG HÒA XÃ HỘI CHỦ NGHĨA VIỆT NAM',\n",
       " 'Độc lập ? Tự do ? Hạnh phúc',\n",
       " 'GIẤY ỦY QUYỀN',\n",
       " 'Căn cứ bộ luật dân sự;',\n",
       " 'Căn cứ Luật doanh nghiệp 2014;',\n",
       " 'Căn cử điều lệ của Công ty TNHH Thanh Huyền',\n",
       " 'Giấy ủy quyền này được lập ngày/28/12/2020 tại trụ sở Công ty TNHH Thanh Huyền giữa các',\n",
       " 'bên sau đây;',\n",
       " 'BÊN ỦY QUYỀN',\n",
       " 'Ông: Nguyễn Trường Giang',\n",
       " 'Sinh ngày: 25/09/1985',\n",
       " 'Dân tộc: Kinh',\n",
       " 'Quốc tịch: Việt Nam',\n",
       " 'Chứng minh thư nhân dân số 100860793 do Công an tỉnh Quảng Ninh cấp ngày 06/10/2010',\n",
       " 'Nơi đăng ký hộ khẩu thường trú: Tổ 1, khu 1, phường Cao Xanh, thành phố Hạ Lòng, tỉnh',\n",
       " 'Quảng Ninh',\n",
       " 'Chức vụ: Chủ sở hữu kiêm Giám Đốc, là người đại diện theo Pháp luật của Công ty theo đăng ký',\n",
       " 'kinh doanh thay đổi ngày 28/12/2020,',\n",
       " 'BÊN ĐƯỢC ỦY QUYỀN:',\n",
       " 'Ông: Nguyễn Xuân Ninh',\n",
       " 'Sinh ngày: 12/05/1965',\n",
       " 'Dân tộc: Kinh',\n",
       " 'Quốc tịch: Việt Nam',\n",
       " 'Chứng minh thư nhân dân số: 100638995 do Công an tỉnh Quảng Ninh cấp ngày 06/06/2008',\n",
       " 'Noi đăng ký hộ khẩu thường trú: Tổ 2, khu 5, phường Bãi Cháy, thành phố Hạ Long, tỉnh Quảng',\n",
       " 'Ninh',\n",
       " 'Chức vụ: Giám đốc tài chính Công ty TNHH Thanh Huyền',\n",
       " '1 NỘI DUNG VÀ PHẠM VI ỦY QUYỀN:',\n",
       " 'Ông Nguyễn Trường Giang ủy quyền cho Ông Nguyễn Xuân Ninh được đại diện công ty',\n",
       " 'toàn quyền ký kết các chứng từ giao dịch, các hợp đồng và các văn bản giấy tờ khác liên',\n",
       " 'quan đến hoạt động giao dịch tiền gửi, giao dịch thanh toán, các văn kiện tín dụng tại',\n",
       " 'Ngân hàng',\n",
       " 'TRÁCH NHIỆM CÁC BÊN:',\n",
       " 'Người được ủy quyền không được ủy quyền lại cho Bên thứ ba thực hiện các công việc',\n",
       " 'thuộc phạm vi ủy quyền theo Giấy ủy quyền này.',\n",
       " 'Người được ủy quyền chịu trách nhiệm trước pháp luật, trước công ty về các quyết định',\n",
       " 'của mình trong phạm vi ủy quyền.',\n",
       " '3, THỜI HẠN ỦY QUYỀN:',\n",
       " 'Giấy ủy quyền này có hiệu lực kể từ ngày ký cho đến khi có văn bản khác thay thế, Giấy',\n",
       " 'Ủy quyền được lập thành 05 (năm) bản có giá trị pháp lý như nhau, Bên ủy quyền giữ một',\n",
       " 'bản, bên được ủy quyền giữ một bản, Văn phòng công ty lưu 03 bản để giii các bên liên',\n",
       " 'quan',\n",
       " 'BÊN ĐƯỢC ỦY QUYỀN',\n",
       " 'BÊN ỦY QUYỀN',\n",
       " '2',\n",
       " 'Nguyễn Xuân Ninh',\n",
       " 'Nguyễn Đường']"
      ]
     },
     "execution_count": 7,
     "metadata": {},
     "output_type": "execute_result"
    }
   ],
   "source": [
    "list_texts"
   ]
  },
  {
   "cell_type": "code",
   "execution_count": 56,
   "id": "312b716a",
   "metadata": {},
   "outputs": [
    {
     "data": {
      "text/plain": [
       "[[0],\n",
       " [1],\n",
       " [2],\n",
       " [3],\n",
       " [4],\n",
       " [5],\n",
       " [6],\n",
       " [7],\n",
       " [8],\n",
       " [9],\n",
       " [10, 11, 12],\n",
       " [13],\n",
       " [14],\n",
       " [15],\n",
       " [16],\n",
       " [17],\n",
       " [18],\n",
       " [19],\n",
       " [20, 21, 22],\n",
       " [23],\n",
       " [24],\n",
       " [25],\n",
       " [26],\n",
       " [27],\n",
       " [28],\n",
       " [29],\n",
       " [30],\n",
       " [31],\n",
       " [32],\n",
       " [33],\n",
       " [34],\n",
       " [35],\n",
       " [36],\n",
       " [37],\n",
       " [38],\n",
       " [39],\n",
       " [40],\n",
       " [41],\n",
       " [42, 43],\n",
       " [44],\n",
       " [45],\n",
       " [46]]"
      ]
     },
     "execution_count": 56,
     "metadata": {},
     "output_type": "execute_result"
    }
   ],
   "source": [
    "# get_lines and sort\n",
    "def get_lines(first,last,list_centers): # output list of list index which perline\n",
    "    lines=[[first]]\n",
    "    for i in range(first+1,last):\n",
    "\n",
    "        if(check_line(list_centers[i],list_centers[i-1],height_mean)):\n",
    "           lines[-1].append(i)\n",
    "        else:\n",
    "           lines.append([i])\n",
    "    return lines\n",
    "\n",
    "lines=get_lines(0,n,list_centers)\n",
    "lines"
   ]
  },
  {
   "cell_type": "code",
   "execution_count": 57,
   "id": "37f62cdf",
   "metadata": {},
   "outputs": [],
   "source": [
    "def sort_x(x):\n",
    "  return list_centers[x][0]\n",
    "def sort(center_ids):\n",
    "    center_ids.sort(key=sort_x)\n",
    "    return center_ids\n",
    "ids=[]\n",
    "for x in lines:\n",
    "    for y in sort(x):\n",
    "        ids.append(y)"
   ]
  },
  {
   "cell_type": "code",
   "execution_count": 58,
   "id": "9c14c719",
   "metadata": {},
   "outputs": [],
   "source": [
    "list_texts_new=[]\n",
    "list_boxes_new=[]\n",
    "list_centers_new=[]\n",
    "for i in ids:\n",
    "    list_texts_new.append(list_texts[i])\n",
    "    list_boxes_new.append(dt_boxes[i])\n",
    "    list_centers_new.append(list_centers_new)"
   ]
  },
  {
   "cell_type": "code",
   "execution_count": 59,
   "id": "df2ee07b",
   "metadata": {},
   "outputs": [
    {
     "data": {
      "text/plain": [
       "['_Header', 'BÊN ỦY QUYỀN', 'BÊN ĐƯỢC ỦY QUYỀN', '_End']"
      ]
     },
     "execution_count": 59,
     "metadata": {},
     "output_type": "execute_result"
    }
   ],
   "source": [
    "\n",
    "Keywords0"
   ]
  },
  {
   "cell_type": "code",
   "execution_count": 60,
   "id": "26515731",
   "metadata": {},
   "outputs": [
    {
     "data": {
      "text/plain": [
       "(False, 12.0)"
      ]
     },
     "execution_count": 60,
     "metadata": {},
     "output_type": "execute_result"
    }
   ],
   "source": [
    "list_texts_new[10]\n",
    "check_keyword(list_texts_new[10],Keywords0[1])"
   ]
  },
  {
   "cell_type": "code",
   "execution_count": 61,
   "id": "3fc03e24",
   "metadata": {},
   "outputs": [
    {
     "name": "stdout",
     "output_type": "stream",
     "text": [
      "BÊN ỦY QUYỀN    :   8 BÊN ỦY QUYỀN\n",
      "BÊN ĐƯỢC ỦY QUYỀN    :   18 BÊN ĐƯỢC ỦY QUYỀN:\n"
     ]
    },
    {
     "data": {
      "text/plain": [
       "{'_Header': 0, 'BÊN ỦY QUYỀN': 8, 'BÊN ĐƯỢC ỦY QUYỀN': 18, '_End': 42}"
      ]
     },
     "execution_count": 61,
     "metadata": {},
     "output_type": "execute_result"
    }
   ],
   "source": [
    "\n",
    "begin = 0 \n",
    "\n",
    "indexs={\"_Header\":0}\n",
    "\n",
    "\n",
    "def get_index_keyword(keyword,list_text,begin,end):\n",
    "    similar_min=1000\n",
    "    index_final=-1\n",
    "    for i in range(begin,end):\n",
    "        check,similar=check_keyword(keyword,list_text[i])\n",
    "        if check and similar < similar_min:\n",
    "            similar_min=similar\n",
    "            index_final=i\n",
    "    return index_final\n",
    "\n",
    "for keyword in Keywords0[1:-1]:\n",
    "    index=get_index_keyword(keyword,list_texts_new,0,len(list_texts_new))\n",
    "    if(index == -1 ):\n",
    "        print(keyword,\"  \",-1)\n",
    "    else:\n",
    "        print(keyword,\"   :  \",index,list_texts_new[index])\n",
    "    indexs[keyword]=index\n",
    "    \n",
    "if(Contents[\"_End\"][0]!=\"None\" and indexs[Keywords0[-2]]!=-1 ):\n",
    "    index=get_index_keyword(Contents[\"_End\"][0],list_texts_new,indexs[Keywords0[-2]]+1,len(list_texts_new))\n",
    "    indexs[\"_End\"]=index\n",
    "else:\n",
    "    indexs[\"_End\"]=n\n",
    "\n",
    "indexs\n",
    "    "
   ]
  },
  {
   "cell_type": "code",
   "execution_count": 62,
   "id": "f81464aa",
   "metadata": {},
   "outputs": [
    {
     "name": "stdout",
     "output_type": "stream",
     "text": [
      "------------------------- _Header --------------------------------\n",
      "{'Giấy ủy quyền này': 6}\n",
      "------------------------- BÊN ỦY QUYỀN --------------------------------\n",
      "{'Ông': 9, 'Sinh ngày': 10, 'Dân tộc': 11, 'Quốc tịch': 12, 'Chứng minh thư nhân dân số': 13, 'Nơi đăng ký hổ khẩu thường trú': 14, 'Chức vụ': 16}\n",
      "------------------------- BÊN ĐƯỢC ỦY QUYỀN --------------------------------\n",
      "{'Ông': 19, 'Sinh ngày': 20, 'Dân tộc': 21, 'Quốc tịch': 22, 'Chứng minh thư nhân dân số': 23, 'Nơi đăng ký hổ khẩu thường trú': 24, 'Chức vụ': 26, '1. NỘI DUNG VÀ PHẠM VI ỦY QUYỀN': 27, '2. TRÁCH NHIỆM CÁC BÊN': 32, '3. THỜI HẠN ỦY QUYỀN': 37}\n"
     ]
    }
   ],
   "source": [
    "# get infor\n",
    "indexs_final={}\n",
    "for id,keyword0 in enumerate(Keywords0[:-1]):\n",
    "    \n",
    "    print(\"-------------------------\",keyword0,\"--------------------------------\")\n",
    "    begin=indexs[keyword0]\n",
    "    if(begin!=-1):\n",
    "        end=indexs[Keywords0[id+1]]\n",
    "        indexs1={}\n",
    "        keywords1=Contents[keyword0]\n",
    "        for keyword in keywords1[:-1]:\n",
    "            if(keyword[0]!=\"_\"):\n",
    "                index=get_index_keyword(keyword,list_texts_new,begin,end)\n",
    "                if(index!=-1):\n",
    "                    begin = index\n",
    "\n",
    "    #                 print(keyword,\"   \",list_texts_new[index])\n",
    "                indexs1[keyword]=index\n",
    "            else:\n",
    "                indexs1[keyword]=begin\n",
    "        indexs_final[keyword0]=indexs1\n",
    "    \n",
    "    print(indexs1)\n",
    "     "
   ]
  },
  {
   "cell_type": "code",
   "execution_count": 63,
   "id": "f2d347d8",
   "metadata": {},
   "outputs": [],
   "source": [
    "last=indexs[\"_End\"]\n",
    "for i in range(len(Keywords0)-2,-1,-1):\n",
    "    indexs_final[Keywords0[i]][\"_end\"]=last\n",
    "    if(indexs[Keywords0[i]]!=-1):\n",
    "        last=indexs[Keywords0[i]]\n",
    "    "
   ]
  },
  {
   "cell_type": "code",
   "execution_count": 64,
   "id": "df51e6be",
   "metadata": {},
   "outputs": [
    {
     "data": {
      "text/plain": [
       "{'_Header': {'Giấy ủy quyền này': 6, '_end': 8},\n",
       " 'BÊN ỦY QUYỀN': {'Ông': 9,\n",
       "  'Sinh ngày': 10,\n",
       "  'Dân tộc': 11,\n",
       "  'Quốc tịch': 12,\n",
       "  'Chứng minh thư nhân dân số': 13,\n",
       "  'Nơi đăng ký hổ khẩu thường trú': 14,\n",
       "  'Chức vụ': 16,\n",
       "  '_end': 18},\n",
       " 'BÊN ĐƯỢC ỦY QUYỀN': {'Ông': 19,\n",
       "  'Sinh ngày': 20,\n",
       "  'Dân tộc': 21,\n",
       "  'Quốc tịch': 22,\n",
       "  'Chứng minh thư nhân dân số': 23,\n",
       "  'Nơi đăng ký hổ khẩu thường trú': 24,\n",
       "  'Chức vụ': 26,\n",
       "  '1. NỘI DUNG VÀ PHẠM VI ỦY QUYỀN': 27,\n",
       "  '2. TRÁCH NHIỆM CÁC BÊN': 32,\n",
       "  '3. THỜI HẠN ỦY QUYỀN': 37,\n",
       "  '_end': 42}}"
      ]
     },
     "execution_count": 64,
     "metadata": {},
     "output_type": "execute_result"
    }
   ],
   "source": [
    "indexs_final"
   ]
  },
  {
   "cell_type": "code",
   "execution_count": 65,
   "id": "1ebacf80",
   "metadata": {},
   "outputs": [
    {
     "name": "stdout",
     "output_type": "stream",
     "text": [
      "_________________Header________________\n",
      "\n",
      "============= Giấy ủy quyền này ==============\n",
      "Giấy ủy quyền này được lập ngày/28/12/2020 tại trụ sở Công ty TNHH Thanh Huyền giữa các\n",
      "bên sau đây;\n",
      "\n",
      "\n",
      "________________BÊN ỦY QUYỀN________________\n",
      "\n",
      "============= Ông ==============\n",
      "Ông: Nguyễn Trường Giang\n",
      "============= Sinh ngày ==============\n",
      "Sinh ngày: 25/09/1985\n",
      "============= Dân tộc ==============\n",
      "Dân tộc: Kinh\n",
      "============= Quốc tịch ==============\n",
      "Quốc tịch: Việt Nam\n",
      "============= Chứng minh thư nhân dân số ==============\n",
      "Chứng minh thư nhân dân số 100860793 do Công an tỉnh Quảng Ninh cấp ngày 06/10/2010\n",
      "============= Nơi đăng ký hổ khẩu thường trú ==============\n",
      "Nơi đăng ký hộ khẩu thường trú: Tổ 1, khu 1, phường Cao Xanh, thành phố Hạ Lòng, tỉnh\n",
      "Quảng Ninh\n",
      "============= Chức vụ ==============\n",
      "Chức vụ: Chủ sở hữu kiêm Giám Đốc, là người đại diện theo Pháp luật của Công ty theo đăng ký\n",
      "kinh doanh thay đổi ngày 28/12/2020,\n",
      "\n",
      "\n",
      "________________BÊN ĐƯỢC ỦY QUYỀN________________\n",
      "\n",
      "============= Ông ==============\n",
      "Ông: Nguyễn Xuân Ninh\n",
      "============= Sinh ngày ==============\n",
      "Sinh ngày: 12/05/1965\n",
      "============= Dân tộc ==============\n",
      "Dân tộc: Kinh\n",
      "============= Quốc tịch ==============\n",
      "Quốc tịch: Việt Nam\n",
      "============= Chứng minh thư nhân dân số ==============\n",
      "Chứng minh thư nhân dân số: 100638995 do Công an tỉnh Quảng Ninh cấp ngày 06/06/2008\n",
      "============= Nơi đăng ký hổ khẩu thường trú ==============\n",
      "Noi đăng ký hộ khẩu thường trú: Tổ 2, khu 5, phường Bãi Cháy, thành phố Hạ Long, tỉnh Quảng\n",
      "Ninh\n",
      "============= Chức vụ ==============\n",
      "Chức vụ: Giám đốc tài chính Công ty TNHH Thanh Huyền\n",
      "============= 1. NỘI DUNG VÀ PHẠM VI ỦY QUYỀN ==============\n",
      "1 NỘI DUNG VÀ PHẠM VI ỦY QUYỀN:\n",
      "Ông Nguyễn Trường Giang ủy quyền cho Ông Nguyễn Xuân Ninh được đại diện công ty\n",
      "toàn quyền ký kết các chứng từ giao dịch, các hợp đồng và các văn bản giấy tờ khác liên\n",
      "quan đến hoạt động giao dịch tiền gửi, giao dịch thanh toán, các văn kiện tín dụng tại\n",
      "Ngân hàng\n",
      "============= 2. TRÁCH NHIỆM CÁC BÊN ==============\n",
      "TRÁCH NHIỆM CÁC BÊN:\n",
      "Người được ủy quyền không được ủy quyền lại cho Bên thứ ba thực hiện các công việc\n",
      "thuộc phạm vi ủy quyền theo Giấy ủy quyền này.\n",
      "Người được ủy quyền chịu trách nhiệm trước pháp luật, trước công ty về các quyết định\n",
      "của mình trong phạm vi ủy quyền.\n",
      "============= 3. THỜI HẠN ỦY QUYỀN ==============\n",
      "3, THỜI HẠN ỦY QUYỀN:\n",
      "Giấy ủy quyền này có hiệu lực kể từ ngày ký cho đến khi có văn bản khác thay thế, Giấy\n",
      "Ủy quyền được lập thành 05 (năm) bản có giá trị pháp lý như nhau, Bên ủy quyền giữ một\n",
      "bản, bên được ủy quyền giữ một bản, Văn phòng công ty lưu 03 bản để giii các bên liên\n",
      "quan\n",
      "\n",
      "\n"
     ]
    }
   ],
   "source": [
    "\n",
    "for title in list(indexs_final.keys()):\n",
    "    print(\"________________\"+title+\"________________\")\n",
    "    print()\n",
    "    if(indexs[title]!=-1):\n",
    "        index_title=indexs_final[title]\n",
    "        keywords_title=list(index_title)\n",
    "    \n",
    "        for i in range(len(keywords_title)-1):\n",
    "            if(index_title[keywords_title[i]]!=-1):\n",
    "                begin= index_title[keywords_title[i]]\n",
    "                end=index_title[keywords_title[i+1]]\n",
    "                print(\"=============\",keywords_title[i],\"==============\")\n",
    "                for k in range(begin,end):\n",
    "                    print(list_texts_new[k])\n",
    "    print()\n",
    "    print()\n",
    "            \n",
    "    \n",
    "    "
   ]
  }
 ],
 "metadata": {
  "kernelspec": {
   "display_name": "Python 3",
   "language": "python",
   "name": "python3"
  },
  "language_info": {
   "codemirror_mode": {
    "name": "ipython",
    "version": 3
   },
   "file_extension": ".py",
   "mimetype": "text/x-python",
   "name": "python",
   "nbconvert_exporter": "python",
   "pygments_lexer": "ipython3",
   "version": "3.8.5"
  }
 },
 "nbformat": 4,
 "nbformat_minor": 5
}
