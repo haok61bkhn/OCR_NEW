{
 "cells": [
  {
   "cell_type": "code",
   "execution_count": 5,
   "id": "f7a1442e",
   "metadata": {},
   "outputs": [],
   "source": [
    "#define document\n",
    "#DKKD\n",
    "Contents={}\n",
    "Contents.update({\"_Header\":[\"Mã Số Doanh Nghiệp\",\"Đăng ký lần đầu\",\"Đăng ký lần thay đổi thứ\"]})\n",
    "Contents.update({\"1.Tên công ty\":[\"Tên Công ty viết bằng tiếng Việt\",\"Tên công ty viết bằng tiếng nước ngoài\",\"Tên công ty viết tắt\"]})\n",
    "Contents.update({\"2.Địa chỉ trụ sở chính\":[\"_Địa chỉ\",\"Điện thoại\",\"Fax\",\"Email\",\"Website\"]})\n",
    "Contents.update({\"3.Vốn điều lệ\":[\"Vốn điều lệ\",\"Bằng Chữ\",\"Mệnh giá cổ phần\",\"Tổng số cổ phần\"]})\n",
    "Contents.update({\"4.Người đại diện theo pháp luật của công ty\":[\"Họ và tên\",\"Giới tính\",\"Chức danh\",\"Sinh ngày\",\"Dân tộc\",\"Quốc tịch\",\"Loại giấy tờ chứng thực cá nhân\",\"Ngày cấp\",\"Nơi cấp\",\"Nơi đăng kí hộ khẩu thường trú\",\"Chỗ ở hiện tại\"]})\n",
    "Contents.update({\"_End\":[\"TRƯỞNG PHÒNG\"]})"
   ]
  },
  {
   "cell_type": "code",
   "execution_count": 6,
   "id": "86d41f5f",
   "metadata": {},
   "outputs": [
    {
     "data": {
      "text/plain": [
       "{'_Header': ['Mã Số Doanh Nghiệp',\n",
       "  'Đăng ký lần đầu',\n",
       "  'Đăng ký lần thay đổi thứ'],\n",
       " '1.Tên công ty': ['Tên Công ty viết bằng tiếng Việt',\n",
       "  'Tên công ty viết bằng tiếng nước ngoài',\n",
       "  'Tên công ty viết tắt'],\n",
       " '2.Địa chỉ trụ sở chính': ['_Địa chỉ',\n",
       "  'Điện thoại',\n",
       "  'Fax',\n",
       "  'Email',\n",
       "  'Website'],\n",
       " '3.Vốn điều lệ': ['Vốn điều lệ',\n",
       "  'Bằng Chữ',\n",
       "  'Mệnh giá cổ phần',\n",
       "  'Tổng số cổ phần'],\n",
       " '4.Người đại diện theo pháp luật của công ty': ['Họ và tên',\n",
       "  'Giới tính',\n",
       "  'Chức danh',\n",
       "  'Sinh ngày',\n",
       "  'Dân tộc',\n",
       "  'Quốc tịch',\n",
       "  'Loại giấy tờ chứng thực cá nhân',\n",
       "  'Ngày cấp',\n",
       "  'Nơi cấp',\n",
       "  'Nơi đăng kí hộ khẩu thường trú',\n",
       "  'Chỗ ở hiện tại'],\n",
       " '_End': ['TRƯỞNG PHÒNG']}"
      ]
     },
     "execution_count": 6,
     "metadata": {},
     "output_type": "execute_result"
    }
   ],
   "source": [
    "Contents"
   ]
  },
  {
   "cell_type": "code",
   "execution_count": 40,
   "id": "e9af5607",
   "metadata": {},
   "outputs": [],
   "source": [
    "# clean STR\n",
    "import re\n",
    "import numpy as np\n",
    "def clean_str(s):\n",
    "    s=s.strip()\n",
    "    s=re.sub('[^A-Za-z0-9 ]+', '', s)\n",
    "    return s.lower()\n",
    "\n",
    "def compare_str(s1,s2):\n",
    "    n1=len(s1)\n",
    "    n2=len(s2)\n",
    "    f=np.zeros((n1+1,n2+1))\n",
    "    for i in range(n1+1):\n",
    "        f[i][0]=1\n",
    "    for j in range(n2+1):\n",
    "        f[0][j]=1    \n",
    "    f[0][0]=0\n",
    "    if(s1[0]!=s2[0]):\n",
    "        f[1][1]=1\n",
    "    for i in range(0,n1):\n",
    "        for j in range(0,n2):\n",
    "            if(s1[i]==s2[j]):\n",
    "                f[i+1][j+1]=f[i][j]\n",
    "            else:\n",
    "                f[i+1][j+1]=min(f[i][j],f[i+1][j],f[i][j+1])+1\n",
    "     \n",
    "    return f[n1][n2]\n",
    "\n",
    "def check_keyword(keyword,text,percent=0.3):\n",
    "    keyword=clean_str(keyword)\n",
    "    text=clean_str(keyword)\n",
    "    n_keyword=len(keyword)\n",
    "    return compare_str(keyword,text[:min(len(text),n_keyword)])<int(percent*n_keyword)\n",
    "    \n",
    "\n",
    "def check_line(ct1,ct2,thresh_dis=30): #center \n",
    "    dis=abs(ct1[1]-ct2[1])\n",
    "    return dis<thresh_dis"
   ]
  },
  {
   "cell_type": "code",
   "execution_count": 32,
   "id": "4db75146",
   "metadata": {},
   "outputs": [
    {
     "name": "stdout",
     "output_type": "stream",
     "text": [
      "(3313, 2226, 3)\n"
     ]
    }
   ],
   "source": [
    "# list_text after remove noise:\n",
    "import pickle\n",
    "import cv2\n",
    "\n",
    "img = cv2.imread(\"data/image.jpg\")\n",
    "print(img.shape)\n",
    "(dt_boxes,list_texts)=pickle.load(open(\"res.pickle\",\"rb+\"))\n",
    "n=len(dt_boxes)"
   ]
  },
  {
   "cell_type": "code",
   "execution_count": 30,
   "id": "35b4b084",
   "metadata": {},
   "outputs": [],
   "source": [
    "#get center and draw\n",
    "def get_center(img,dt_boxes,draw=True):\n",
    "    image=img.copy()\n",
    "    color = (0, 255, 0)\n",
    "    #y,x\n",
    "    list_centers=[]\n",
    "    for boxes in dt_boxes:\n",
    "        y_center=int(sum(boxes[:,0])/4)\n",
    "        x_center=int(sum(boxes[:,1])/4)\n",
    "        list_centers.append((y_center,x_center))\n",
    "        if(draw):\n",
    "        \n",
    "            image = cv2.line(image, (int(boxes[0][0]),int(boxes[0][1])), (int(boxes[1][0]),int(boxes[1][1])), color, 1) \n",
    "            image = cv2.line(image, (int(boxes[1][0]),int(boxes[1][1])), (int(boxes[2][0]),int(boxes[2][1])), color, 1) \n",
    "            image = cv2.line(image, (int(boxes[2][0]),int(boxes[2][1])), (int(boxes[3][0]),int(boxes[3][1])), color, 1)\n",
    "            image = cv2.line(image, (int(boxes[3][0]),int(boxes[3][1])), (int(boxes[0][0]),int(boxes[0][1])), color, 1)\n",
    "            image = cv2.circle(image,(y_center,x_center),1,color,1)\n",
    "    if(draw):\n",
    "        cv2.imwrite(\"output/image_with_boxes.jpg\",image)\n",
    "    return list_centers\n",
    "list_centers=get_center(img,dt_boxes)"
   ]
  },
  {
   "cell_type": "code",
   "execution_count": 35,
   "id": "cdaae484",
   "metadata": {},
   "outputs": [
    {
     "data": {
      "text/plain": [
       "[(647, 235), (1541, 233)]"
      ]
     },
     "execution_count": 35,
     "metadata": {},
     "output_type": "execute_result"
    }
   ],
   "source": [
    "list_centers[:2] #(y,x)"
   ]
  },
  {
   "cell_type": "code",
   "execution_count": 44,
   "id": "3c302ab1",
   "metadata": {},
   "outputs": [
    {
     "data": {
      "text/plain": [
       "[[0, 1], [2, 3], [4], [5], [6]]"
      ]
     },
     "execution_count": 44,
     "metadata": {},
     "output_type": "execute_result"
    }
   ],
   "source": [
    "# get_lines and sort\n",
    "def get_lines(first,last,list_centers): # output list of list index which perline\n",
    "    lines=[[first]]\n",
    "    for i in range(first+1,last):\n",
    "\n",
    "        if(check_line(list_centers[i],list_centers[i-1])):\n",
    "           lines[-1].append(i)\n",
    "        else:\n",
    "           lines.append([i])\n",
    "    return lines\n",
    "\n",
    "lines=get_lines(0,n,list_centers)\n",
    "lines[0:5]"
   ]
  },
  {
   "cell_type": "code",
   "execution_count": 48,
   "id": "a94da487",
   "metadata": {},
   "outputs": [],
   "source": [
    "def sort_x(x):\n",
    "  return list_centers[x][0]\n",
    "def sort(center_ids):\n",
    "    center_ids.sort(key=sort_x)\n",
    "    return center_ids\n",
    "ids=[]\n",
    "for x in lines:\n",
    "    for y in sort(x):\n",
    "        ids.append(y)"
   ]
  },
  {
   "cell_type": "code",
   "execution_count": 54,
   "id": "02dba1a1",
   "metadata": {},
   "outputs": [],
   "source": [
    "list_texts_new=[]\n",
    "list_boxes_new=[]\n",
    "list_centers_new=[]\n",
    "for i in ids:\n",
    "    list_texts_new.append(list_texts[i])\n",
    "    list_boxes_new.append(dt_boxes[i])\n",
    "    list_centers_new.append(list_centers_new)"
   ]
  },
  {
   "cell_type": "code",
   "execution_count": 59,
   "id": "82fbaa39",
   "metadata": {},
   "outputs": [
    {
     "data": {
      "text/plain": [
       "['1.Tên công ty',\n",
       " '2.Địa chỉ trụ sở chính',\n",
       " '3.Vốn điều lệ',\n",
       " '4.Người đại diện theo pháp luật của công ty']"
      ]
     },
     "execution_count": 59,
     "metadata": {},
     "output_type": "execute_result"
    }
   ],
   "source": [
    "Keywords0=list(Contents.keys())[1:-1]\n",
    "Keywords0"
   ]
  },
  {
   "cell_type": "code",
   "execution_count": 57,
   "id": "f72f19fe",
   "metadata": {},
   "outputs": [
    {
     "ename": "SyntaxError",
     "evalue": "unexpected EOF while parsing (<ipython-input-57-c062ba6c105f>, line 3)",
     "output_type": "error",
     "traceback": [
      "\u001b[0;36m  File \u001b[0;32m\"<ipython-input-57-c062ba6c105f>\"\u001b[0;36m, line \u001b[0;32m3\u001b[0m\n\u001b[0;31m    \u001b[0m\n\u001b[0m    ^\u001b[0m\n\u001b[0;31mSyntaxError\u001b[0m\u001b[0;31m:\u001b[0m unexpected EOF while parsing\n"
     ]
    }
   ],
   "source": [
    "Index0={}\n",
    "for keyword in Keywords0:\n",
    "    \n",
    "    "
   ]
  }
 ],
 "metadata": {
  "kernelspec": {
   "display_name": "Python 3",
   "language": "python",
   "name": "python3"
  },
  "language_info": {
   "codemirror_mode": {
    "name": "ipython",
    "version": 3
   },
   "file_extension": ".py",
   "mimetype": "text/x-python",
   "name": "python",
   "nbconvert_exporter": "python",
   "pygments_lexer": "ipython3",
   "version": "3.8.5"
  }
 },
 "nbformat": 4,
 "nbformat_minor": 5
}
