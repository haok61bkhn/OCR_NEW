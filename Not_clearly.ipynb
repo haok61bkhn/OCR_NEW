{
 "cells": [
  {
   "cell_type": "code",
   "execution_count": 136,
   "metadata": {},
   "outputs": [],
   "source": [
    "\n",
    "# get noise:\n",
    "\n",
    "import pickle\n",
    "import cv2\n",
    "(dt_boxes,list_texts)=pickle.load(open(\"res.pickle\",\"rb+\"))\n",
    "boxes_noises = pickle.load(open(\"boxes_red.pickle\",\"rb\"))\n"
   ]
  },
  {
   "cell_type": "code",
   "execution_count": 34,
   "metadata": {},
   "outputs": [
    {
     "name": "stdout",
     "output_type": "stream",
     "text": [
      "id noise :  0  ---- id_boxes :  46   max_iou:  0.6387509245028724\n",
      "id noise :  1  ---- id_boxes :  47   max_iou:  0.01677835051546392\n",
      "id noise :  2  ---- id_boxes :  47   max_iou:  0.09139175257731959\n",
      "id noise :  3  ---- id_boxes :  49   max_iou:  0.9288996994538787\n",
      "id noise :  4  ---- id_boxes :  50   max_iou:  0.5771120801874512\n",
      "id noise :  5  ---- id_boxes :  51   max_iou:  0.10516036184210527\n",
      "id noise :  6  ---- id_boxes :  51   max_iou:  0.04620682565789474\n",
      "id noise :  7  ---- id_boxes :  56   max_iou:  0.7921138800230018\n",
      "id noise :  8  ---- id_boxes :  55   max_iou:  0.13326819736199316\n"
     ]
    }
   ],
   "source": [
    "from shapely.geometry import Polygon\n",
    "# for boxes_noise in boxes_noises:\n",
    "for id_noise,boxes_noise in enumerate(boxes_noises):\n",
    "    b = Polygon([ (boxes[0],boxes[1])for boxes in boxes_noise])\n",
    "    max_iou=0\n",
    "    id_max=0\n",
    "    for id,dt_box in enumerate(dt_boxes):\n",
    "        a = Polygon([ (boxes[0],boxes[1])for boxes in dt_box])\n",
    "        iou=b.intersection(a).area / b.union(a).area\n",
    "        if(iou>max_iou):\n",
    "            max_iou=iou\n",
    "            id_max=id\n",
    "    print(\"id noise : \",id_noise,\" ---- id_boxes : \",id_max, \"  max_iou: \",max_iou)\n"
   ]
  },
  {
   "cell_type": "code",
   "execution_count": 137,
   "metadata": {},
   "outputs": [
    {
     "name": "stdout",
     "output_type": "stream",
     "text": [
      "(3313, 2226, 3)\n"
     ]
    }
   ],
   "source": [
    "import pickle\n",
    "import cv2\n",
    "\n",
    "img = cv2.imread(\"data/image.jpg\")\n",
    "print(img.shape)\n",
    "(dt_boxes,list_texts)=pickle.load(open(\"res.pickle\",\"rb+\"))"
   ]
  },
  {
   "cell_type": "code",
   "execution_count": 111,
   "metadata": {},
   "outputs": [],
   "source": [
    "# list_texts"
   ]
  },
  {
   "cell_type": "code",
   "execution_count": 150,
   "metadata": {},
   "outputs": [
    {
     "data": {
      "text/plain": [
       "True"
      ]
     },
     "execution_count": 150,
     "metadata": {},
     "output_type": "execute_result"
    }
   ],
   "source": [
    "image=img.copy()\n",
    "color = (0, 255, 0)\n",
    "#y,x\n",
    "list_centers=[]\n",
    "for boxes in dt_boxes:\n",
    "    y_center=int(sum(boxes[:,0])/4)\n",
    "    x_center=int(sum(boxes[:,1])/4)\n",
    "    list_centers.append((y_center,x_center))\n",
    "    image = cv2.line(image, (int(boxes[0][0]),int(boxes[0][1])), (int(boxes[1][0]),int(boxes[1][1])), color, 1) \n",
    "    image = cv2.line(image, (int(boxes[1][0]),int(boxes[1][1])), (int(boxes[2][0]),int(boxes[2][1])), color, 1) \n",
    "    image = cv2.line(image, (int(boxes[2][0]),int(boxes[2][1])), (int(boxes[3][0]),int(boxes[3][1])), color, 1)\n",
    "    image = cv2.line(image, (int(boxes[3][0]),int(boxes[3][1])), (int(boxes[0][0]),int(boxes[0][1])), color, 1)\n",
    "    image = cv2.circle(image,(y_center,x_center),1,color,1)\n",
    "cv2.imwrite(\"image.jpg\",image)"
   ]
  },
  {
   "cell_type": "code",
   "execution_count": 88,
   "metadata": {},
   "outputs": [],
   "source": [
    "import numpy as np\n",
    "def compare_str(s1,s2):\n",
    "    n1=len(s1)\n",
    "    n2=len(s2)\n",
    "    f=np.zeros((n1+1,n2+1))\n",
    "    for i in range(n1+1):\n",
    "        f[i][0]=1\n",
    "    for j in range(n2+1):\n",
    "        f[0][j]=1    \n",
    "    f[0][0]=0\n",
    "    if(s1[0]!=s2[0]):\n",
    "        f[1][1]=1\n",
    "    for i in range(0,n1):\n",
    "        for j in range(0,n2):\n",
    "            if(s1[i]==s2[j]):\n",
    "                f[i+1][j+1]=f[i][j]\n",
    "            else:\n",
    "                f[i+1][j+1]=min(f[i][j],f[i+1][j],f[i][j+1])+1\n",
    "     \n",
    "    return f[n1][n2]\n",
    "\n",
    "\n",
    "Keywords=[\"1.Tên công ty\",\"2.Địa chỉ trụ sở chính\",\"3.Vốn điều lệ\",\"4.Người đại diện theo pháp luật của công ty\"]\n",
    "#def search index:\n",
    "indexs={}\n",
    "j=7\n",
    "for kw in Keywords:\n",
    "  while(j<len(list_texts)):\n",
    "    if(compare_str(kw,list_texts[j])<=5):\n",
    "        indexs[kw]=j\n",
    "        break\n",
    "    j+=1\n"
   ]
  },
  {
   "cell_type": "code",
   "execution_count": 83,
   "metadata": {},
   "outputs": [
    {
     "data": {
      "text/plain": [
       "{'1.Tên công ty': 10,\n",
       " '2.Địa chỉ trụ sở chính': 15,\n",
       " '3.Vốn điều lệ': 22,\n",
       " '4.Người đại diện theo pháp luật của công ty': 29}"
      ]
     },
     "execution_count": 83,
     "metadata": {},
     "output_type": "execute_result"
    }
   ],
   "source": [
    "indexs"
   ]
  },
  {
   "cell_type": "code",
   "execution_count": 42,
   "metadata": {},
   "outputs": [
    {
     "name": "stdout",
     "output_type": "stream",
     "text": [
      "Mã Doanh Nghiệp :  Mã số doanh nghiệp: 5700393958\n",
      "Đăng ký lần đầu :  Đăng ký lần đầu: ngày 08 tháng 02 năm 2007\n",
      "Đăng ký thay đổi :  Đăng ký thay đổi lần thứ: 18, ngày 22 tháng 05 năm 2020\n"
     ]
    }
   ],
   "source": [
    "# ma doanh nghiep dt_boxes[7]\n",
    "# dang ky lan dau dt_boxes[8]\n",
    "# dang ky thay doi lan thu dt_boxes[9] or not\n",
    "# ten cong ty dt_boxes[9] or dt_boxes[]\n",
    "\n",
    "print(\"Mã Doanh Nghiệp : \",list_texts[7])\n",
    "print(\"Đăng ký lần đầu : \",list_texts[8])     \n",
    "if(indexs[Keywords[0]]!=9):\n",
    "    print(\"Đăng ký thay đổi : \",list_texts[9])     "
   ]
  },
  {
   "cell_type": "code",
   "execution_count": 43,
   "metadata": {},
   "outputs": [
    {
     "name": "stdout",
     "output_type": "stream",
     "text": [
      "Tên công ty viết bằng tiếng Việt: CôNG TY Cổ PHÀN TẬP ĐOÀN HOÀNG HÀ\n",
      "Tên công ty viết bằng tiếng nước ngoài: HOANG HA CORPORATION JOINT STOCK COMPANY\n",
      "Tên công ty viết tắt: HOANG HA GROUP\n"
     ]
    }
   ],
   "source": [
    "#1. Tên công ty\n",
    "name=\"\"\n",
    "for i in range(indexs[Keywords[0]]+1,indexs[Keywords[1]]):\n",
    "    if(compare_str(list_texts[i][:4],\"Tên\")<=2):\n",
    "        if(len(name)>0):        \n",
    "            print(name)\n",
    "            \n",
    "        name=list_texts[i]\n",
    "        \n",
    "        \n",
    "    else:\n",
    "        name+=\" \"+list_texts[i]\n",
    "            \n",
    "        \n",
    "print(name)"
   ]
  },
  {
   "cell_type": "code",
   "execution_count": 44,
   "metadata": {},
   "outputs": [
    {
     "name": "stdout",
     "output_type": "stream",
     "text": [
      "Cụm công nghiệp Kim Sơn, Phường Kim Sơn, Thị xã Đông Triều, Tỉnh Quảng Ninh, Việt Nam \n",
      "Fax: 02033.677576\n",
      "Email: info Ahoanghagroup.com.vn\n",
      "Website: wwww.hoanghagroup.com.vn\n"
     ]
    }
   ],
   "source": [
    "#---------------------------------Địa chỉ\"\n",
    "\n",
    "add=\"\"\n",
    "for i in range(indexs[Keywords[1]]+1,indexs[Keywords[2]]):\n",
    "    text=list_texts[i]\n",
    "    if(compare_str(text[:3],\"FAX\")==0 or compare_str(text[:3],\"Điệ\")==0):\n",
    "        break\n",
    "    else:\n",
    "        add+=text+\" \"\n",
    "# print(add)\n",
    "print(add)\n",
    "\n",
    "for j in range(i+1,indexs[Keywords[2]]):\n",
    "    print(list_texts[j])"
   ]
  },
  {
   "cell_type": "code",
   "execution_count": 123,
   "metadata": {},
   "outputs": [],
   "source": [
    "def check_line(ct1,ct2,thresh_dis=30): #y,x\n",
    "    dis=abs(ct1[1]-ct2[1])\n",
    "    print(dis)\n",
    "    return dis<30"
   ]
  },
  {
   "cell_type": "code",
   "execution_count": 45,
   "metadata": {},
   "outputs": [
    {
     "data": {
      "text/plain": [
       "{'Vốn': ' Vốn điều lệ: 455.000.000.000 đồng.',\n",
       " 'Bằn': ' Bằng chữ: Bốn trăm năm mươi lăm tỷ đồng',\n",
       " 'Mện': ' Mệnh giá cổ phần: 100.000 đồng',\n",
       " 'Tổn': ' Tổng số cổ phần 4.550.000'}"
      ]
     },
     "execution_count": 45,
     "metadata": {},
     "output_type": "execute_result"
    }
   ],
   "source": [
    "# vốn điều lệ\n",
    "\n",
    "#indexs[Keywords[2]]+1,indexs[Keywords[3]]\n",
    "j=indexs[Keywords[2]]+1\n",
    "firt_key_words=[\"Vốn\",\"Bằn\",\"Mện\",\"Tổn\",\"111\"]\n",
    "res={}\n",
    "for i in range(len(firt_key_words)-1):\n",
    "    res[firt_key_words[i]]=\"\"\n",
    "    while(j<indexs[Keywords[3]]):\n",
    "        text=list_texts[j]\n",
    "        \n",
    "        if(compare_str(firt_key_words[i+1],text[:4])<=1):\n",
    "            break\n",
    "        else:\n",
    "            res[firt_key_words[i]]+=\" \"+text\n",
    "        j+=1\n",
    "res"
   ]
  },
  {
   "cell_type": "code",
   "execution_count": 48,
   "metadata": {},
   "outputs": [
    {
     "data": {
      "text/plain": [
       "False"
      ]
     },
     "execution_count": 48,
     "metadata": {},
     "output_type": "execute_result"
    }
   ],
   "source": [
    "check_line(list_centers[23],list_centers[24])"
   ]
  },
  {
   "cell_type": "code",
   "execution_count": 91,
   "metadata": {},
   "outputs": [
    {
     "name": "stdout",
     "output_type": "stream",
     "text": [
      "Giới tính: Nam\n",
      "% HỌ VÀ TÊN: PHẠM ANH THẮNG\n",
      "Chức danh: Tổng giám đốc\n",
      "09/10/1984\n",
      "Dân tộc: Kinh\n",
      "Quốc tịch: Việt Nam\n",
      "Sinh ngày:\n",
      "Loại giấy tờ chứng thực cá nhân:\n",
      "Thẻ căn cước công dân\n",
      "Số giấy chứng thực cá nhân:\n",
      "030084012774\n",
      "Ngày cấp\n",
      "13/03/2020\n",
      "Nơi cấp: cục cảnh sát QLHC về trật tự xã hội\n",
      "Nơi đăng ký hộ khẩu thường trú: Tổ 1, khu 3, Phường Hồng Hà, Thành phố Hạ Long,\n",
      "Tỉnh Quảng Ninh, Việt Nan\n",
      "Chỗ ở hiện tại: Tổ 1, Khuy 3, Ri không Hông, Hà, Thành phố Hạ Long, Tỉnh Quảng\n",
      "Ninh, Việt Nam\n",
      "TRƯỜNG PHÒNG\n",
      "ĐĂNG Y)\n",
      "GU\n",
      "KINHO\n",
      "PHÓ TRƯỜNG PHÒNG\n",
      "Bùi Minh Tú\n"
     ]
    }
   ],
   "source": [
    "# Người đại diện pháp luật\n",
    "\n",
    "for i in range(indexs[Keywords[3]]+1,len(list_texts)):\n",
    "    print(list_texts[i])"
   ]
  },
  {
   "cell_type": "code",
   "execution_count": 134,
   "metadata": {},
   "outputs": [
    {
     "data": {
      "text/plain": [
       "{'HỌ VÀ': ' % HỌ VÀ TÊN: PHẠM ANH THẮNG',\n",
       " 'Giới ': ' Giới tính: Nam',\n",
       " 'Chức ': ' Chức danh: Tổng giám đốc 09/10/1984 Dân tộc: Kinh',\n",
       " 'Sinh ': ' Sinh ngày: Quốc tịch: Việt Nam Loại giấy tờ chứng thực cá nhân: Thẻ căn cước công dân Số giấy chứng thực cá nhân: 030084012774 Ngày cấp 13/03/2020 Nơi cấp: cục cảnh sát QLHC về trật tự xã hội Nơi đăng ký hộ khẩu thường trú: Tổ 1, khu 3, Phường Hồng Hà, Thành phố Hạ Long, Tỉnh Quảng Ninh, Việt Nan Chỗ ở hiện tại: Tổ 1, Khuy 3, Ri không Hông, Hà, Thành phố Hạ Long, Tỉnh Quảng Ninh, Việt Nam TRƯỜNG PHÒNG ĐĂNG Y)',\n",
       " 'Dân t': '',\n",
       " 'Quốc ': '',\n",
       " 'Loại ': '',\n",
       " 'Số gi': '',\n",
       " 'Ngày ': '',\n",
       " 'Nơi c': '',\n",
       " 'Nơi đ': '',\n",
       " 'Chỗ ở': ''}"
      ]
     },
     "execution_count": 134,
     "metadata": {},
     "output_type": "execute_result"
    }
   ],
   "source": [
    "\n",
    "#indexs[Keywords[3]]+1,len(list_texts)-1]\n",
    "j=indexs[Keywords[3]]+1\n",
    "firt_key_words=[\"HỌ VÀ\",\"Giới \",\"Chức \",\"Sinh \",\"Dân t\",\"Quốc \",\"Loại \",\"Số gi\",\"Ngày \",\"Nơi c\",\"Nơi đ\",\"Chỗ ở\",\"TRƯỜN\"]\n",
    "res={}\n",
    "for i in range(len(firt_key_words)-1):\n",
    "    res[firt_key_words[i]]=\"\"\n",
    "    while(j<len(list_texts)-1):\n",
    "        text=list_texts[j]\n",
    "        \n",
    "        if(compare_str(firt_key_words[i+1],text[:5])<=3):\n",
    "        \n",
    "            break\n",
    "        else:\n",
    "            res[firt_key_words[i]]+=\" \"+text\n",
    "        j+=1\n",
    "res"
   ]
  },
  {
   "cell_type": "code",
   "execution_count": 139,
   "metadata": {},
   "outputs": [
    {
     "name": "stdout",
     "output_type": "stream",
     "text": [
      "% HỌ VÀ TÊN: PHẠM ANH THẮNG\n",
      "Giới tính: Nam\n",
      "Chức danh: Tổng giám đốc\n",
      "09/10/1984\n",
      "Dân tộc: Kinh\n",
      "Sinh ngày:\n",
      "Quốc tịch: Việt Nam\n",
      "Loại giấy tờ chứng thực cá nhân:\n",
      "Thẻ căn cước công dân\n",
      "Số giấy chứng thực cá nhân:\n",
      "030084012774\n",
      "Ngày cấp\n",
      "13/03/2020\n",
      "Nơi cấp: cục cảnh sát QLHC về trật tự xã hội\n",
      "Nơi đăng ký hộ khẩu thường trú: Tổ 1, khu 3, Phường Hồng Hà, Thành phố Hạ Long,\n",
      "Tỉnh Quảng Ninh, Việt Nan\n",
      "Chỗ ở hiện tại: Tổ 1, Khuy 3, Ri không Hông, Hà, Thành phố Hạ Long, Tỉnh Quảng\n",
      "Ninh, Việt Nam\n",
      "TRƯỜNG PHÒNG\n",
      "ĐĂNG Y)\n",
      "GU\n",
      "KINHO\n",
      "PHÓ TRƯỜNG PHÒNG\n"
     ]
    }
   ],
   "source": [
    "j=indexs[Keywords[3]]+1\n",
    "while(j<len(list_texts)-1):\n",
    "     print(list_texts[j])\n",
    "     j+=1"
   ]
  },
  {
   "cell_type": "code",
   "execution_count": 138,
   "metadata": {},
   "outputs": [
    {
     "name": "stdout",
     "output_type": "stream",
     "text": [
      "2\n",
      "77\n",
      "71\n",
      "1\n",
      "1\n",
      "6\n",
      "69\n",
      "0\n",
      "67\n",
      "0\n",
      "72\n",
      "1\n",
      "2\n",
      "69\n",
      "60\n",
      "75\n",
      "55\n",
      "151\n",
      "75\n",
      "17\n",
      "31\n",
      "181\n"
     ]
    }
   ],
   "source": [
    "first=indexs[Keywords[3]]+1\n",
    "last=len(list_texts)-1\n",
    "lines=[[first]]\n",
    "for i in range(first+1,last):\n",
    " \n",
    "    if(check_line(list_centers[i],list_centers[i-1])):\n",
    "       lines[-1].append(i)\n",
    "    else:\n",
    "       lines.append([i])\n",
    "    "
   ]
  },
  {
   "cell_type": "code",
   "execution_count": 140,
   "metadata": {},
   "outputs": [
    {
     "data": {
      "text/plain": [
       "[[30, 31],\n",
       " [32],\n",
       " [33, 34, 35, 36],\n",
       " [37, 38],\n",
       " [39, 40],\n",
       " [41, 42, 43],\n",
       " [44],\n",
       " [45],\n",
       " [46],\n",
       " [47],\n",
       " [48],\n",
       " [49, 50],\n",
       " [51],\n",
       " [52]]"
      ]
     },
     "execution_count": 140,
     "metadata": {},
     "output_type": "execute_result"
    }
   ],
   "source": [
    "lines"
   ]
  },
  {
   "cell_type": "code",
   "execution_count": 167,
   "metadata": {},
   "outputs": [],
   "source": [
    "def sort_x(x):\n",
    "  \n",
    "  return list_centers[x][0]\n",
    "def sort(center_ids):\n",
    "    center_ids.sort(key=sort_x)\n",
    "    return center_ids"
   ]
  },
  {
   "cell_type": "code",
   "execution_count": 170,
   "metadata": {},
   "outputs": [],
   "source": [
    "ids=[]\n",
    "for x in lines:\n",
    "    for y in sort(x):\n",
    "        ids.append(y)"
   ]
  },
  {
   "cell_type": "code",
   "execution_count": 171,
   "metadata": {},
   "outputs": [
    {
     "data": {
      "text/plain": [
       "[30,\n",
       " 31,\n",
       " 32,\n",
       " 35,\n",
       " 33,\n",
       " 34,\n",
       " 36,\n",
       " 37,\n",
       " 38,\n",
       " 39,\n",
       " 40,\n",
       " 41,\n",
       " 42,\n",
       " 43,\n",
       " 44,\n",
       " 45,\n",
       " 46,\n",
       " 47,\n",
       " 48,\n",
       " 49,\n",
       " 50,\n",
       " 51,\n",
       " 52]"
      ]
     },
     "execution_count": 171,
     "metadata": {},
     "output_type": "execute_result"
    }
   ],
   "source": [
    "ids"
   ]
  },
  {
   "cell_type": "code",
   "execution_count": 173,
   "metadata": {},
   "outputs": [
    {
     "data": {
      "text/plain": [
       "{'HỌ VÀ': ' % HỌ VÀ TÊN: PHẠM ANH THẮNG',\n",
       " 'Giới ': ' Giới tính: Nam',\n",
       " 'Chức ': ' Chức danh: Tổng giám đốc',\n",
       " 'Sinh ': ' Sinh ngày: 09/10/1984',\n",
       " 'Dân t': ' Dân tộc: Kinh',\n",
       " 'Quốc ': ' Quốc tịch: Việt Nam',\n",
       " 'Loại ': ' Loại giấy tờ chứng thực cá nhân: Thẻ căn cước công dân',\n",
       " 'Số gi': ' Số giấy chứng thực cá nhân: 030084012774',\n",
       " 'Ngày ': ' Ngày cấp 13/03/2020',\n",
       " 'Nơi c': '',\n",
       " 'Nơi đ': ' Nơi cấp: cục cảnh sát QLHC về trật tự xã hội Nơi đăng ký hộ khẩu thường trú: Tổ 1, khu 3, Phường Hồng Hà, Thành phố Hạ Long, Tỉnh Quảng Ninh, Việt Nan',\n",
       " 'Chỗ ở': ' Chỗ ở hiện tại: Tổ 1, Khuy 3, Ri không Hông, Hà, Thành phố Hạ Long, Tỉnh Quảng Ninh, Việt Nam'}"
      ]
     },
     "execution_count": 173,
     "metadata": {},
     "output_type": "execute_result"
    }
   ],
   "source": [
    "\n",
    "#indexs[Keywords[3]]+1,len(list_texts)-1]\n",
    "j=0\n",
    "firt_key_words=[\"HỌ VÀ\",\"Giới \",\"Chức \",\"Sinh \",\"Dân t\",\"Quốc \",\"Loại \",\"Số gi\",\"Ngày \",\"Nơi c\",\"Nơi đ\",\"Chỗ ở\",\"TRƯỜN\"]\n",
    "res={}\n",
    "for i in range(len(firt_key_words)-1):\n",
    "    res[firt_key_words[i]]=\"\"\n",
    "    while(j<len(ids)-1):\n",
    "        \n",
    "        text=list_texts[ids[j]]\n",
    "        \n",
    "        if(compare_str(firt_key_words[i+1],text[:5])<=3):\n",
    "        \n",
    "            break\n",
    "        else:\n",
    "            res[firt_key_words[i]]+=\" \"+text\n",
    "        j+=1\n",
    "res"
   ]
  },
  {
   "cell_type": "code",
   "execution_count": 152,
   "metadata": {},
   "outputs": [
    {
     "name": "stdout",
     "output_type": "stream",
     "text": [
      "Giới tính: Nam\n"
     ]
    },
    {
     "data": {
      "text/plain": [
       "(1661, 2022)"
      ]
     },
     "execution_count": 152,
     "metadata": {},
     "output_type": "execute_result"
    }
   ],
   "source": [
    "print(list_texts[31])\n",
    "list_centers[31]"
   ]
  },
  {
   "cell_type": "code",
   "execution_count": 149,
   "metadata": {},
   "outputs": [
    {
     "data": {
      "text/plain": [
       "54"
      ]
     },
     "execution_count": 149,
     "metadata": {},
     "output_type": "execute_result"
    }
   ],
   "source": [
    "# A function that returns the length of the value:\n",
    "def myFunc(e):\n",
    "  return len(e)\n",
    "\n",
    "cars = ['Ford', 'Mitsubishi', 'BMW', 'VW']\n",
    "\n",
    "cars.sort(key=myFunc)"
   ]
  }
 ],
 "metadata": {
  "kernelspec": {
   "display_name": "Python 3",
   "language": "python",
   "name": "python3"
  },
  "language_info": {
   "codemirror_mode": {
    "name": "ipython",
    "version": 3
   },
   "file_extension": ".py",
   "mimetype": "text/x-python",
   "name": "python",
   "nbconvert_exporter": "python",
   "pygments_lexer": "ipython3",
   "version": "3.8.5"
  }
 },
 "nbformat": 4,
 "nbformat_minor": 2
}
