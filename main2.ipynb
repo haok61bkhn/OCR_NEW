{
 "cells": [
  {
   "cell_type": "code",
   "execution_count": 1,
   "metadata": {},
   "outputs": [
    {
     "name": "stderr",
     "output_type": "stream",
     "text": [
      "/home/haobk/.local/lib/python3.8/site-packages/paddle/fluid/layers/utils.py:26: DeprecationWarning: `np.int` is a deprecated alias for the builtin `int`. To silence this warning, use `int` by itself. Doing this will not modify any behavior and is safe. When replacing `np.int`, you may wish to use e.g. `np.int64` or `np.int32` to specify the precision. If you wish to review your current use, check the release note link for additional information.\n",
      "Deprecated in NumPy 1.20; for more details and guidance: https://numpy.org/devdocs/release/1.20.0-notes.html#deprecations\n",
      "  def convert_to_list(value, n, name, dtype=np.int):\n",
      "/home/haobk/.local/lib/python3.8/site-packages/skimage/morphology/_skeletonize.py:241: DeprecationWarning: `np.bool` is a deprecated alias for the builtin `bool`. To silence this warning, use `bool` by itself. Doing this will not modify any behavior and is safe. If you specifically wanted the numpy scalar type, use `np.bool_` here.\n",
      "Deprecated in NumPy 1.20; for more details and guidance: https://numpy.org/devdocs/release/1.20.0-notes.html#deprecations\n",
      "  0, 1, 1, 0, 0, 1, 0, 0, 0], dtype=np.bool)\n",
      "/home/haobk/.local/lib/python3.8/site-packages/skimage/morphology/_skeletonize.py:256: DeprecationWarning: `np.bool` is a deprecated alias for the builtin `bool`. To silence this warning, use `bool` by itself. Doing this will not modify any behavior and is safe. If you specifically wanted the numpy scalar type, use `np.bool_` here.\n",
      "Deprecated in NumPy 1.20; for more details and guidance: https://numpy.org/devdocs/release/1.20.0-notes.html#deprecations\n",
      "  0, 0, 0, 0, 0, 0, 0, 0, 0], dtype=np.bool)\n"
     ]
    }
   ],
   "source": [
    "from main2 import *"
   ]
  },
  {
   "cell_type": "code",
   "execution_count": 2,
   "metadata": {},
   "outputs": [
    {
     "name": "stderr",
     "output_type": "stream",
     "text": [
      "usage: ipykernel_launcher.py [-h] [--use_gpu USE_GPU] [--ir_optim IR_OPTIM]\n",
      "                             [--use_tensorrt USE_TENSORRT]\n",
      "                             [--use_fp16 USE_FP16] [--gpu_mem GPU_MEM]\n",
      "                             [--image_dir IMAGE_DIR]\n",
      "                             [--det_algorithm DET_ALGORITHM]\n",
      "                             [--det_model_dir DET_MODEL_DIR]\n",
      "                             [--det_limit_side_len DET_LIMIT_SIDE_LEN]\n",
      "                             [--det_limit_type DET_LIMIT_TYPE]\n",
      "                             [--det_db_thresh DET_DB_THRESH]\n",
      "                             [--det_db_box_thresh DET_DB_BOX_THRESH]\n",
      "                             [--det_db_unclip_ratio DET_DB_UNCLIP_RATIO]\n",
      "                             [--max_batch_size MAX_BATCH_SIZE]\n",
      "                             [--use_dilation USE_DILATION]\n",
      "                             [--det_db_score_mode DET_DB_SCORE_MODE]\n",
      "                             [--det_east_score_thresh DET_EAST_SCORE_THRESH]\n",
      "                             [--det_east_cover_thresh DET_EAST_COVER_THRESH]\n",
      "                             [--det_east_nms_thresh DET_EAST_NMS_THRESH]\n",
      "                             [--det_sast_score_thresh DET_SAST_SCORE_THRESH]\n",
      "                             [--det_sast_nms_thresh DET_SAST_NMS_THRESH]\n",
      "                             [--det_sast_polygon DET_SAST_POLYGON]\n",
      "                             [--rec_algorithm REC_ALGORITHM]\n",
      "                             [--rec_model_dir REC_MODEL_DIR]\n",
      "                             [--rec_image_shape REC_IMAGE_SHAPE]\n",
      "                             [--rec_char_type REC_CHAR_TYPE]\n",
      "                             [--rec_batch_num REC_BATCH_NUM]\n",
      "                             [--max_text_length MAX_TEXT_LENGTH]\n",
      "                             [--rec_char_dict_path REC_CHAR_DICT_PATH]\n",
      "                             [--use_space_char USE_SPACE_CHAR]\n",
      "                             [--vis_font_path VIS_FONT_PATH]\n",
      "                             [--drop_score DROP_SCORE]\n",
      "                             [--e2e_algorithm E2E_ALGORITHM]\n",
      "                             [--e2e_model_dir E2E_MODEL_DIR]\n",
      "                             [--e2e_limit_side_len E2E_LIMIT_SIDE_LEN]\n",
      "                             [--e2e_limit_type E2E_LIMIT_TYPE]\n",
      "                             [--e2e_pgnet_score_thresh E2E_PGNET_SCORE_THRESH]\n",
      "                             [--e2e_char_dict_path E2E_CHAR_DICT_PATH]\n",
      "                             [--e2e_pgnet_valid_set E2E_PGNET_VALID_SET]\n",
      "                             [--e2e_pgnet_polygon E2E_PGNET_POLYGON]\n",
      "                             [--e2e_pgnet_mode E2E_PGNET_MODE]\n",
      "                             [--use_angle_cls USE_ANGLE_CLS]\n",
      "                             [--cls_model_dir CLS_MODEL_DIR]\n",
      "                             [--cls_image_shape CLS_IMAGE_SHAPE]\n",
      "                             [--label_list LABEL_LIST]\n",
      "                             [--cls_batch_num CLS_BATCH_NUM]\n",
      "                             [--cls_thresh CLS_THRESH]\n",
      "                             [--enable_mkldnn ENABLE_MKLDNN]\n",
      "                             [--use_pdserving USE_PDSERVING] [--use_mp USE_MP]\n",
      "                             [--total_process_num TOTAL_PROCESS_NUM]\n",
      "                             [--process_id PROCESS_ID]\n",
      "ipykernel_launcher.py: error: unrecognized arguments: -f /home/haobk/.local/share/jupyter/runtime/kernel-b4511b29-eeb4-422d-9a3b-801d5ea8b5c3.json\n"
     ]
    },
    {
     "ename": "SystemExit",
     "evalue": "2",
     "output_type": "error",
     "traceback": [
      "An exception has occurred, use %tb to see the full traceback.\n",
      "\u001b[0;31mSystemExit\u001b[0m\u001b[0;31m:\u001b[0m 2\n"
     ]
    }
   ],
   "source": [
    "ocr=OCR_Document()\n",
    "img = cv2.imread(\"data/uyquyen.png\")\n",
    "ocr.main(img,type=\"uyquyen\")"
   ]
  },
  {
   "cell_type": "code",
   "execution_count": null,
   "metadata": {},
   "outputs": [],
   "source": []
  }
 ],
 "metadata": {
  "kernelspec": {
   "display_name": "Python 3",
   "language": "python",
   "name": "python3"
  },
  "language_info": {
   "codemirror_mode": {
    "name": "ipython",
    "version": 3
   },
   "file_extension": ".py",
   "mimetype": "text/x-python",
   "name": "python",
   "nbconvert_exporter": "python",
   "pygments_lexer": "ipython3",
   "version": "3.8.5"
  }
 },
 "nbformat": 4,
 "nbformat_minor": 2
}
