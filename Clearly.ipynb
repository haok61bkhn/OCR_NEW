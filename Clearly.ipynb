{
 "cells": [
  {
   "cell_type": "code",
   "execution_count": 1,
   "id": "61ba1e6e",
   "metadata": {},
   "outputs": [],
   "source": [
    "#define document\n",
    "#DKKD\n",
    "Contents={}\n",
    "Contents.update({\"_Header\":[\"Mã Số Doanh Nghiệp\",\"Đăng ký lần đầu\",\"Đăng ký thay đổi lần thứ\"]})\n",
    "Contents.update({\"1.Tên công ty\":[\"Tên Công ty viết bằng tiếng Việt\",\"Tên công ty viết bằng tiếng nước ngoài\",\"Tên công ty viết tắt\"]})\n",
    "Contents.update({\"2.Địa chỉ trụ sở chính\":[\"_Địa chỉ\",\"Điện thoại\",\"Fax\",\"Email\",\"Website\"]})\n",
    "Contents.update({\"3.Vốn điều lệ\":[\"Vốn điều lệ\",\"Bằng Chữ\",\"Mệnh giá cổ phần\",\"Tổng số cổ phần\"]})\n",
    "Contents.update({\"4.Người đại diện theo pháp luật của công ty\":[\"Họ và tên\",\"Giới tính\",\"Chức danh\",\"Sinh ngày\",\"Dân tộc\",\"Quốc tịch\",\"Loại giấy tờ chứng thực cá nhân\",\"Ngày cấp\",\"Nơi cấp\",\"Nơi đăng kí hộ khẩu thường trú\",\"Chỗ ở hiện tại\"]})\n",
    "Contents.update({\"_End\":[\"TRƯỞNG PHÒNG\"]}) # or {\"_End\":[\"None\"]}"
   ]
  },
  {
   "cell_type": "code",
   "execution_count": 2,
   "id": "575ac406",
   "metadata": {},
   "outputs": [
    {
     "data": {
      "text/plain": [
       "{'_Header': ['Mã Số Doanh Nghiệp',\n",
       "  'Đăng ký lần đầu',\n",
       "  'Đăng ký thay đổi lần thứ',\n",
       "  '_end'],\n",
       " '1.Tên công ty': ['Tên Công ty viết bằng tiếng Việt',\n",
       "  'Tên công ty viết bằng tiếng nước ngoài',\n",
       "  'Tên công ty viết tắt',\n",
       "  '_end'],\n",
       " '2.Địa chỉ trụ sở chính': ['_Địa chỉ',\n",
       "  'Điện thoại',\n",
       "  'Fax',\n",
       "  'Email',\n",
       "  'Website',\n",
       "  '_end'],\n",
       " '3.Vốn điều lệ': ['Vốn điều lệ',\n",
       "  'Bằng Chữ',\n",
       "  'Mệnh giá cổ phần',\n",
       "  'Tổng số cổ phần',\n",
       "  '_end'],\n",
       " '4.Người đại diện theo pháp luật của công ty': ['Họ và tên',\n",
       "  'Giới tính',\n",
       "  'Chức danh',\n",
       "  'Sinh ngày',\n",
       "  'Dân tộc',\n",
       "  'Quốc tịch',\n",
       "  'Loại giấy tờ chứng thực cá nhân',\n",
       "  'Ngày cấp',\n",
       "  'Nơi cấp',\n",
       "  'Nơi đăng kí hộ khẩu thường trú',\n",
       "  'Chỗ ở hiện tại',\n",
       "  '_end'],\n",
       " '_End': ['TRƯỞNG PHÒNG', '_end']}"
      ]
     },
     "execution_count": 2,
     "metadata": {},
     "output_type": "execute_result"
    }
   ],
   "source": [
    "Keywords0=list(Contents.keys())\n",
    "for x in Keywords0:\n",
    "    Contents[x].append(\"_end\")\n",
    "Contents"
   ]
  },
  {
   "cell_type": "code",
   "execution_count": 3,
   "id": "ab536f77",
   "metadata": {},
   "outputs": [],
   "source": [
    "# clean STR\n",
    "import re\n",
    "import numpy as np\n",
    "def clean_str(s):\n",
    "    s=s.strip()\n",
    "    s=re.sub('[*&/`~@#$%\\^&*]+', '', s)\n",
    "    return s.lower()\n",
    "\n",
    "def compare_str(s1,s2):\n",
    "    n1=len(s1)\n",
    "    n2=len(s2)\n",
    "    f=np.zeros((n1+1,n2+1))\n",
    "    for i in range(n1+1):\n",
    "        f[i][0]=1\n",
    "    for j in range(n2+1):\n",
    "        f[0][j]=1    \n",
    "    f[0][0]=0\n",
    "    if(s1[0]!=s2[0]):\n",
    "        f[1][1]=1\n",
    "    for i in range(0,n1):\n",
    "        for j in range(0,n2):\n",
    "            if(s1[i]==s2[j]):\n",
    "                f[i+1][j+1]=f[i][j]\n",
    "            else:\n",
    "                f[i+1][j+1]=min(f[i][j],f[i+1][j],f[i][j+1])+1\n",
    "    \n",
    "    return f[n1][n2]\n",
    "\n",
    "def check_keyword(keyword,text,percent=0.3):\n",
    "    keyword=clean_str(keyword)\n",
    "    text=clean_str(text)\n",
    "    n_keyword=len(keyword)\n",
    "    n_text=len(text)\n",
    "    similar=compare_str(keyword,text[:min(len(text),n_keyword)])\n",
    "    return similar<=int(percent*min(n_keyword,n_text)),similar\n",
    "    \n",
    "\n",
    "def check_line(ct1,ct2,thresh_dis=30): #center \n",
    "    dis=abs(ct1[1]-ct2[1])\n",
    "    return dis<thresh_dis"
   ]
  },
  {
   "cell_type": "code",
   "execution_count": 4,
   "id": "da4c3ffe",
   "metadata": {},
   "outputs": [
    {
     "name": "stdout",
     "output_type": "stream",
     "text": [
      "(3313, 2226, 3)\n"
     ]
    }
   ],
   "source": [
    "# list_text after remove noise:\n",
    "import pickle\n",
    "import cv2\n",
    "\n",
    "img = cv2.imread(\"data/image.jpg\")\n",
    "print(img.shape)\n",
    "(dt_boxes,list_texts)=pickle.load(open(\"res.pickle\",\"rb+\"))\n",
    "n=len(dt_boxes)"
   ]
  },
  {
   "cell_type": "code",
   "execution_count": 5,
   "id": "1b5391a8",
   "metadata": {},
   "outputs": [],
   "source": [
    "#get center and draw\n",
    "def get_center(img,dt_boxes,draw=True):\n",
    "    image=img.copy()\n",
    "    color = (0, 255, 0)\n",
    "    #y,x\n",
    "    list_centers=[]\n",
    "    for boxes in dt_boxes:\n",
    "        y_center=int(sum(boxes[:,0])/4)\n",
    "        x_center=int(sum(boxes[:,1])/4)\n",
    "        list_centers.append((y_center,x_center))\n",
    "        if(draw):\n",
    "        \n",
    "            image = cv2.line(image, (int(boxes[0][0]),int(boxes[0][1])), (int(boxes[1][0]),int(boxes[1][1])), color, 1) \n",
    "            image = cv2.line(image, (int(boxes[1][0]),int(boxes[1][1])), (int(boxes[2][0]),int(boxes[2][1])), color, 1) \n",
    "            image = cv2.line(image, (int(boxes[2][0]),int(boxes[2][1])), (int(boxes[3][0]),int(boxes[3][1])), color, 1)\n",
    "            image = cv2.line(image, (int(boxes[3][0]),int(boxes[3][1])), (int(boxes[0][0]),int(boxes[0][1])), color, 1)\n",
    "            image = cv2.circle(image,(y_center,x_center),1,color,1)\n",
    "    if(draw):\n",
    "        cv2.imwrite(\"output/image_with_boxes.jpg\",image)\n",
    "    return list_centers\n",
    "list_centers=get_center(img,dt_boxes)"
   ]
  },
  {
   "cell_type": "code",
   "execution_count": 6,
   "id": "75875c77",
   "metadata": {},
   "outputs": [
    {
     "data": {
      "text/plain": [
       "[(647, 235), (1541, 233)]"
      ]
     },
     "execution_count": 6,
     "metadata": {},
     "output_type": "execute_result"
    }
   ],
   "source": [
    "list_centers[:2] #(y,x)"
   ]
  },
  {
   "cell_type": "code",
   "execution_count": 7,
   "id": "312b716a",
   "metadata": {},
   "outputs": [
    {
     "data": {
      "text/plain": [
       "[[0, 1], [2, 3], [4], [5], [6]]"
      ]
     },
     "execution_count": 7,
     "metadata": {},
     "output_type": "execute_result"
    }
   ],
   "source": [
    "# get_lines and sort\n",
    "def get_lines(first,last,list_centers): # output list of list index which perline\n",
    "    lines=[[first]]\n",
    "    for i in range(first+1,last):\n",
    "\n",
    "        if(check_line(list_centers[i],list_centers[i-1])):\n",
    "           lines[-1].append(i)\n",
    "        else:\n",
    "           lines.append([i])\n",
    "    return lines\n",
    "\n",
    "lines=get_lines(0,n,list_centers)\n",
    "lines[0:5]"
   ]
  },
  {
   "cell_type": "code",
   "execution_count": 8,
   "id": "37f62cdf",
   "metadata": {},
   "outputs": [],
   "source": [
    "def sort_x(x):\n",
    "  return list_centers[x][0]\n",
    "def sort(center_ids):\n",
    "    center_ids.sort(key=sort_x)\n",
    "    return center_ids\n",
    "ids=[]\n",
    "for x in lines:\n",
    "    for y in sort(x):\n",
    "        ids.append(y)"
   ]
  },
  {
   "cell_type": "code",
   "execution_count": 9,
   "id": "9c14c719",
   "metadata": {},
   "outputs": [],
   "source": [
    "list_texts_new=[]\n",
    "list_boxes_new=[]\n",
    "list_centers_new=[]\n",
    "for i in ids:\n",
    "    list_texts_new.append(list_texts[i])\n",
    "    list_boxes_new.append(dt_boxes[i])\n",
    "    list_centers_new.append(list_centers_new)"
   ]
  },
  {
   "cell_type": "code",
   "execution_count": 10,
   "id": "df2ee07b",
   "metadata": {},
   "outputs": [
    {
     "data": {
      "text/plain": [
       "['_Header',\n",
       " '1.Tên công ty',\n",
       " '2.Địa chỉ trụ sở chính',\n",
       " '3.Vốn điều lệ',\n",
       " '4.Người đại diện theo pháp luật của công ty',\n",
       " '_End']"
      ]
     },
     "execution_count": 10,
     "metadata": {},
     "output_type": "execute_result"
    }
   ],
   "source": [
    "\n",
    "Keywords0"
   ]
  },
  {
   "cell_type": "code",
   "execution_count": 11,
   "id": "26515731",
   "metadata": {},
   "outputs": [
    {
     "data": {
      "text/plain": [
       "(True, 1.0)"
      ]
     },
     "execution_count": 11,
     "metadata": {},
     "output_type": "execute_result"
    }
   ],
   "source": [
    "list_texts_new[10]\n",
    "check_keyword(list_texts_new[10],Keywords0[1])"
   ]
  },
  {
   "cell_type": "code",
   "execution_count": 12,
   "id": "3fc03e24",
   "metadata": {},
   "outputs": [
    {
     "name": "stdout",
     "output_type": "stream",
     "text": [
      "1.Tên công ty    :   10 1. Tên công ty\n",
      "2.Địa chỉ trụ sở chính    :   15 2. Địa chỉ trụ sở chính\n",
      "3.Vốn điều lệ    :   22 3. Vốn điều lệ\n",
      "4.Người đại diện theo pháp luật của công ty    :   29 4. Người đại diện theo pháp luật của công ty\n"
     ]
    },
    {
     "data": {
      "text/plain": [
       "{'_Header': 0,\n",
       " '1.Tên công ty': 10,\n",
       " '2.Địa chỉ trụ sở chính': 15,\n",
       " '3.Vốn điều lệ': 22,\n",
       " '4.Người đại diện theo pháp luật của công ty': 29,\n",
       " '_End': 48}"
      ]
     },
     "execution_count": 12,
     "metadata": {},
     "output_type": "execute_result"
    }
   ],
   "source": [
    "\n",
    "begin = 0 \n",
    "\n",
    "indexs={\"_Header\":0}\n",
    "\n",
    "\n",
    "def get_index_keyword(keyword,list_text,begin,end):\n",
    "    similar_min=1000\n",
    "    index_final=-1\n",
    "    for i in range(begin,end):\n",
    "        check,similar=check_keyword(keyword,list_text[i])\n",
    "        if check and similar < similar_min:\n",
    "            similar_min=similar\n",
    "            index_final=i\n",
    "    return index_final\n",
    "\n",
    "for keyword in Keywords0[1:-1]:\n",
    "    index=get_index_keyword(keyword,list_texts_new,0,len(list_texts_new))\n",
    "    if(index == -1 ):\n",
    "        print(keyword,\"  \",-1)\n",
    "    else:\n",
    "        print(keyword,\"   :  \",index,list_texts_new[index])\n",
    "    indexs[keyword]=index\n",
    "    \n",
    "if(Contents[\"_End\"][0]!=\"None\" and indexs[Keywords0[-2]]!=-1 ):\n",
    "    index=get_index_keyword(Contents[\"_End\"][0],list_texts_new,indexs[Keywords0[-2]]+1,len(list_texts_new))\n",
    "    indexs[\"_End\"]=index\n",
    "else:\n",
    "    indexs[\"_End\"]=n\n",
    "\n",
    "indexs\n",
    "    "
   ]
  },
  {
   "cell_type": "code",
   "execution_count": 14,
   "id": "f81464aa",
   "metadata": {},
   "outputs": [
    {
     "name": "stdout",
     "output_type": "stream",
     "text": [
      "------------------------- _Header --------------------------------\n",
      "{'Mã Số Doanh Nghiệp': 7, 'Đăng ký lần đầu': 8, 'Đăng ký thay đổi lần thứ': 9}\n",
      "------------------------- 1.Tên công ty --------------------------------\n",
      "{'Tên Công ty viết bằng tiếng Việt': 11, 'Tên công ty viết bằng tiếng nước ngoài': 12, 'Tên công ty viết tắt': 14}\n",
      "------------------------- 2.Địa chỉ trụ sở chính --------------------------------\n",
      "{'_Địa chỉ': 15, 'Điện thoại': 18, 'Fax': 19, 'Email': 20, 'Website': 21}\n",
      "------------------------- 3.Vốn điều lệ --------------------------------\n",
      "{'Vốn điều lệ': 23, 'Bằng Chữ': 25, 'Mệnh giá cổ phần': 26, 'Tổng số cổ phần': 27}\n",
      "------------------------- 4.Người đại diện theo pháp luật của công ty --------------------------------\n",
      "{'Họ và tên': 30, 'Giới tính': 31, 'Chức danh': 32, 'Sinh ngày': 33, 'Dân tộc': 35, 'Quốc tịch': 36, 'Loại giấy tờ chứng thực cá nhân': 37, 'Ngày cấp': 41, 'Nơi cấp': 43, 'Nơi đăng kí hộ khẩu thường trú': 44, 'Chỗ ở hiện tại': 46}\n"
     ]
    }
   ],
   "source": [
    "# get infor\n",
    "indexs_final={}\n",
    "for id,keyword0 in enumerate(Keywords0[:-1]):\n",
    "    \n",
    "    print(\"-------------------------\",keyword0,\"--------------------------------\")\n",
    "    begin=indexs[keyword0]\n",
    "    if(begin!=-1):\n",
    "        end=indexs[Keywords0[id+1]]\n",
    "        indexs1={}\n",
    "        keywords1=Contents[keyword0]\n",
    "        for keyword in keywords1[:-1]:\n",
    "            if(keyword[0]!=\"_\"):\n",
    "                index=get_index_keyword(keyword,list_texts_new,begin,end)\n",
    "                if(index!=-1):\n",
    "                    begin = index\n",
    "\n",
    "    #                 print(keyword,\"   \",list_texts_new[index])\n",
    "                indexs1[keyword]=index\n",
    "            else:\n",
    "                indexs1[keyword]=begin\n",
    "        indexs_final[keyword0]=indexs1\n",
    "    \n",
    "    print(indexs1)\n",
    "     "
   ]
  },
  {
   "cell_type": "code",
   "execution_count": 15,
   "id": "f2d347d8",
   "metadata": {},
   "outputs": [],
   "source": [
    "last=indexs[\"_End\"]\n",
    "for i in range(len(Keywords0)-2,-1,-1):\n",
    "    indexs_final[Keywords0[i]][\"_end\"]=last\n",
    "    if(indexs[Keywords0[i]]!=-1):\n",
    "        last=indexs[Keywords0[i]]\n",
    "    "
   ]
  },
  {
   "cell_type": "code",
   "execution_count": 16,
   "id": "df51e6be",
   "metadata": {},
   "outputs": [
    {
     "data": {
      "text/plain": [
       "{'_Header': {'Mã Số Doanh Nghiệp': 7,\n",
       "  'Đăng ký lần đầu': 8,\n",
       "  'Đăng ký thay đổi lần thứ': 9,\n",
       "  '_end': 10},\n",
       " '1.Tên công ty': {'Tên Công ty viết bằng tiếng Việt': 11,\n",
       "  'Tên công ty viết bằng tiếng nước ngoài': 12,\n",
       "  'Tên công ty viết tắt': 14,\n",
       "  '_end': 15},\n",
       " '2.Địa chỉ trụ sở chính': {'_Địa chỉ': 15,\n",
       "  'Điện thoại': 18,\n",
       "  'Fax': 19,\n",
       "  'Email': 20,\n",
       "  'Website': 21,\n",
       "  '_end': 22},\n",
       " '3.Vốn điều lệ': {'Vốn điều lệ': 23,\n",
       "  'Bằng Chữ': 25,\n",
       "  'Mệnh giá cổ phần': 26,\n",
       "  'Tổng số cổ phần': 27,\n",
       "  '_end': 29},\n",
       " '4.Người đại diện theo pháp luật của công ty': {'Họ và tên': 30,\n",
       "  'Giới tính': 31,\n",
       "  'Chức danh': 32,\n",
       "  'Sinh ngày': 33,\n",
       "  'Dân tộc': 35,\n",
       "  'Quốc tịch': 36,\n",
       "  'Loại giấy tờ chứng thực cá nhân': 37,\n",
       "  'Ngày cấp': 41,\n",
       "  'Nơi cấp': 43,\n",
       "  'Nơi đăng kí hộ khẩu thường trú': 44,\n",
       "  'Chỗ ở hiện tại': 46,\n",
       "  '_end': 48}}"
      ]
     },
     "execution_count": 16,
     "metadata": {},
     "output_type": "execute_result"
    }
   ],
   "source": [
    "indexs_final"
   ]
  },
  {
   "cell_type": "code",
   "execution_count": 17,
   "id": "1ebacf80",
   "metadata": {},
   "outputs": [
    {
     "name": "stdout",
     "output_type": "stream",
     "text": [
      "_________________Header________________\n",
      "\n",
      "============= Mã Số Doanh Nghiệp ==============\n",
      "Mã số doanh nghiệp: 5700393958\n",
      "============= Đăng ký lần đầu ==============\n",
      "Đăng ký lần đầu: ngày 08 tháng 02 năm 2007\n",
      "============= Đăng ký thay đổi lần thứ ==============\n",
      "Đăng ký thay đổi lần thứ: 18, ngày 22 tháng 05 năm 2020\n",
      "\n",
      "\n",
      "________________1.Tên công ty________________\n",
      "\n",
      "============= Tên Công ty viết bằng tiếng Việt ==============\n",
      "Tên công ty viết bằng tiếng Việt: CôNG TY Cổ PHÀN TẬP ĐOÀN HOÀNG HÀ\n",
      "============= Tên công ty viết bằng tiếng nước ngoài ==============\n",
      "Tên công ty viết bằng tiếng nước ngoài: HOANG HA CORPORATION JOINT\n",
      "STOCK COMPANY\n",
      "============= Tên công ty viết tắt ==============\n",
      "Tên công ty viết tắt: HOANG HA GROUP\n",
      "\n",
      "\n",
      "________________2.Địa chỉ trụ sở chính________________\n",
      "\n",
      "============= _Địa chỉ ==============\n",
      "2. Địa chỉ trụ sở chính\n",
      "Cụm công nghiệp Kim Sơn, Phường Kim Sơn, Thị xã Đông Triều, Tỉnh Quảng Ninh,\n",
      "Việt Nam\n",
      "============= Điện thoại ==============\n",
      "Điện thoại: 02033.677578\n",
      "============= Fax ==============\n",
      "Fax: 02033.677576\n",
      "============= Email ==============\n",
      "Email: info Ahoanghagroup.com.vn\n",
      "============= Website ==============\n",
      "Website: wwww.hoanghagroup.com.vn\n",
      "\n",
      "\n",
      "________________3.Vốn điều lệ________________\n",
      "\n",
      "============= Vốn điều lệ ==============\n",
      "Vốn điều lệ:\n",
      "455.000.000.000 đồng.\n",
      "============= Bằng Chữ ==============\n",
      "Bằng chữ: Bốn trăm năm mươi lăm tỷ đồng\n",
      "============= Mệnh giá cổ phần ==============\n",
      "Mệnh giá cổ phần: 100.000 đồng\n",
      "============= Tổng số cổ phần ==============\n",
      "Tổng số cổ phần\n",
      "4.550.000\n",
      "\n",
      "\n",
      "________________4.Người đại diện theo pháp luật của công ty________________\n",
      "\n",
      "============= Họ và tên ==============\n",
      "% HỌ VÀ TÊN: PHẠM ANH THẮNG\n",
      "============= Giới tính ==============\n",
      "Giới tính: Nam\n",
      "============= Chức danh ==============\n",
      "Chức danh: Tổng giám đốc\n",
      "============= Sinh ngày ==============\n",
      "Sinh ngày:\n",
      "09/10/1984\n",
      "============= Dân tộc ==============\n",
      "Dân tộc: Kinh\n",
      "============= Quốc tịch ==============\n",
      "Quốc tịch: Việt Nam\n",
      "============= Loại giấy tờ chứng thực cá nhân ==============\n",
      "Loại giấy tờ chứng thực cá nhân:\n",
      "Thẻ căn cước công dân\n",
      "Số giấy chứng thực cá nhân:\n",
      "030084012774\n",
      "============= Ngày cấp ==============\n",
      "Ngày cấp\n",
      "13/03/2020\n",
      "============= Nơi cấp ==============\n",
      "Nơi cấp: cục cảnh sát QLHC về trật tự xã hội\n",
      "============= Nơi đăng kí hộ khẩu thường trú ==============\n",
      "Nơi đăng ký hộ khẩu thường trú: Tổ 1, khu 3, Phường Hồng Hà, Thành phố Hạ Long,\n",
      "Tỉnh Quảng Ninh, Việt Nan\n",
      "============= Chỗ ở hiện tại ==============\n",
      "Chỗ ở hiện tại: Tổ 1, Khuy 3, Ri không Hông, Hà, Thành phố Hạ Long, Tỉnh Quảng\n",
      "Ninh, Việt Nam\n",
      "\n",
      "\n"
     ]
    }
   ],
   "source": [
    "\n",
    "for title in list(indexs_final.keys()):\n",
    "    print(\"________________\"+title+\"________________\")\n",
    "    print()\n",
    "    if(indexs[title]!=-1):\n",
    "        index_title=indexs_final[title]\n",
    "        keywords_title=list(index_title)\n",
    "    \n",
    "        for i in range(len(keywords_title)-1):\n",
    "            if(index_title[keywords_title[i]]!=-1):\n",
    "                begin= index_title[keywords_title[i]]\n",
    "                end=index_title[keywords_title[i+1]]\n",
    "                print(\"=============\",keywords_title[i],\"==============\")\n",
    "                for k in range(begin,end):\n",
    "                    print(list_texts_new[k])\n",
    "    print()\n",
    "    print()\n",
    "            \n",
    "    \n",
    "    "
   ]
  }
 ],
 "metadata": {
  "kernelspec": {
   "display_name": "Python 3",
   "language": "python",
   "name": "python3"
  },
  "language_info": {
   "codemirror_mode": {
    "name": "ipython",
    "version": 3
   },
   "file_extension": ".py",
   "mimetype": "text/x-python",
   "name": "python",
   "nbconvert_exporter": "python",
   "pygments_lexer": "ipython3",
   "version": "3.8.5"
  }
 },
 "nbformat": 4,
 "nbformat_minor": 5
}
